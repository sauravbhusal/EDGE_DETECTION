{
 "cells": [
  {
   "cell_type": "code",
   "execution_count": 1,
   "id": "8f1ec7da-b7e5-4f53-b81e-c01aad4c321b",
   "metadata": {},
   "outputs": [],
   "source": [
    "import numpy as np\n",
    "from PIL import Image"
   ]
  },
  {
   "cell_type": "code",
   "execution_count": 13,
   "id": "dee5240a-98e3-4f1e-b690-018f73fc694f",
   "metadata": {},
   "outputs": [],
   "source": [
    "img = Image.open('jenna.jpg')\n",
    "gray_img = img.convert('L')"
   ]
  },
  {
   "cell_type": "code",
   "execution_count": 14,
   "id": "a084e3c5-708c-4dc6-bde1-d30be46c3e5d",
   "metadata": {},
   "outputs": [
    {
     "name": "stdout",
     "output_type": "stream",
     "text": [
      "(1242, 1242)\n"
     ]
    }
   ],
   "source": [
    "np_array = np.array(gray_img)\n",
    "print(np_array.shape)"
   ]
  },
  {
   "cell_type": "code",
   "execution_count": 17,
   "id": "cd6f1a87-2071-46d6-8366-7cc266c18f9b",
   "metadata": {},
   "outputs": [],
   "source": [
    "#gray_img"
   ]
  },
  {
   "cell_type": "code",
   "execution_count": 16,
   "id": "b3daa0cd-f843-46c6-a844-d5a78ad871c4",
   "metadata": {},
   "outputs": [
    {
     "data": {
      "text/plain": [
       "array([[45, 45, 45, ...,  6,  6,  6],\n",
       "       [45, 45, 45, ...,  6,  6,  6],\n",
       "       [45, 45, 45, ...,  6,  6,  6],\n",
       "       ...,\n",
       "       [ 5,  5,  5, ...,  3,  3,  3],\n",
       "       [ 5,  6,  6, ...,  3,  3,  3],\n",
       "       [ 5,  6,  6, ...,  3,  3,  3]], dtype=uint8)"
      ]
     },
     "execution_count": 16,
     "metadata": {},
     "output_type": "execute_result"
    }
   ],
   "source": [
    "np_array"
   ]
  },
  {
   "cell_type": "code",
   "execution_count": 21,
   "id": "3e7a7669-c6f7-4f55-ae65-aa13f3633d31",
   "metadata": {},
   "outputs": [],
   "source": [
    "kernel_1 = np.matrix([[0, 0, 0], [1, 1, 1], [0, 0, 0]])\n",
    "kernel_2 = np.matrix([[0, 1, 0], [0, 1, 0], [0, 1, 0]])"
   ]
  },
  {
   "cell_type": "code",
   "execution_count": 22,
   "id": "9771c359-667b-413a-8ae2-00803a1ed113",
   "metadata": {},
   "outputs": [
    {
     "data": {
      "text/plain": [
       "matrix([[0, 1, 0],\n",
       "        [0, 1, 0],\n",
       "        [0, 1, 0]])"
      ]
     },
     "execution_count": 22,
     "metadata": {},
     "output_type": "execute_result"
    }
   ],
   "source": [
    "kernel_1\n",
    "kernel_2"
   ]
  },
  {
   "cell_type": "code",
   "execution_count": null,
   "id": "9d522b48-db6a-4c2f-a290-64f5383551ec",
   "metadata": {},
   "outputs": [],
   "source": [
    "kernel_"
   ]
  }
 ],
 "metadata": {
  "kernelspec": {
   "display_name": "Python 3 (ipykernel)",
   "language": "python",
   "name": "python3"
  },
  "language_info": {
   "codemirror_mode": {
    "name": "ipython",
    "version": 3
   },
   "file_extension": ".py",
   "mimetype": "text/x-python",
   "name": "python",
   "nbconvert_exporter": "python",
   "pygments_lexer": "ipython3",
   "version": "3.10.12"
  }
 },
 "nbformat": 4,
 "nbformat_minor": 5
}
