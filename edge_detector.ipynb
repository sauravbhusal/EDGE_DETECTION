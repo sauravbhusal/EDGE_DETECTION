{
 "cells": [
  {
   "cell_type": "code",
   "execution_count": 1,
   "id": "8f1ec7da-b7e5-4f53-b81e-c01aad4c321b",
   "metadata": {},
   "outputs": [],
   "source": [
    "import numpy as np\n",
    "from PIL import Image"
   ]
  },
  {
   "cell_type": "code",
   "execution_count": 2,
   "id": "dee5240a-98e3-4f1e-b690-018f73fc694f",
   "metadata": {},
   "outputs": [],
   "source": [
    "img = Image.open('jenna.jpg')\n",
    "gray_img = img.convert('L')"
   ]
  },
  {
   "cell_type": "code",
   "execution_count": 3,
   "id": "a084e3c5-708c-4dc6-bde1-d30be46c3e5d",
   "metadata": {},
   "outputs": [
    {
     "name": "stdout",
     "output_type": "stream",
     "text": [
      "(1242, 1242)\n"
     ]
    }
   ],
   "source": [
    "np_array = np.array(gray_img)\n",
    "print(np_array.shape)"
   ]
  },
  {
   "cell_type": "code",
   "execution_count": 4,
   "id": "cd6f1a87-2071-46d6-8366-7cc266c18f9b",
   "metadata": {},
   "outputs": [],
   "source": [
    "#gray_img"
   ]
  },
  {
   "cell_type": "code",
   "execution_count": 5,
   "id": "b3daa0cd-f843-46c6-a844-d5a78ad871c4",
   "metadata": {},
   "outputs": [
    {
     "data": {
      "text/plain": [
       "array([[45, 45, 45, ...,  6,  6,  6],\n",
       "       [45, 45, 45, ...,  6,  6,  6],\n",
       "       [45, 45, 45, ...,  6,  6,  6],\n",
       "       ...,\n",
       "       [ 5,  5,  5, ...,  3,  3,  3],\n",
       "       [ 5,  6,  6, ...,  3,  3,  3],\n",
       "       [ 5,  6,  6, ...,  3,  3,  3]], dtype=uint8)"
      ]
     },
     "execution_count": 5,
     "metadata": {},
     "output_type": "execute_result"
    }
   ],
   "source": [
    "np_array"
   ]
  },
  {
   "cell_type": "code",
   "execution_count": 6,
   "id": "3e7a7669-c6f7-4f55-ae65-aa13f3633d31",
   "metadata": {},
   "outputs": [],
   "source": [
    "kernel_1 = np.matrix([[0, 0, 0], [1, 1, 1], [0, 0, 0]])\n",
    "kernel_2 = np.matrix([[0, 1, 0], [0, 1, 0], [0, 1, 0]])"
   ]
  },
  {
   "cell_type": "code",
   "execution_count": 7,
   "id": "9771c359-667b-413a-8ae2-00803a1ed113",
   "metadata": {},
   "outputs": [
    {
     "data": {
      "text/plain": [
       "matrix([[0, 1, 0],\n",
       "        [0, 1, 0],\n",
       "        [0, 1, 0]])"
      ]
     },
     "execution_count": 7,
     "metadata": {},
     "output_type": "execute_result"
    }
   ],
   "source": [
    "kernel_1\n",
    "kernel_2"
   ]
  },
  {
   "cell_type": "code",
   "execution_count": null,
   "id": "9d522b48-db6a-4c2f-a290-64f5383551ec",
   "metadata": {},
   "outputs": [],
   "source": []
  },
  {
   "cell_type": "code",
   "execution_count": null,
   "id": "8e52d02d-2ab6-46f9-8f68-281e5458697d",
   "metadata": {},
   "outputs": [],
   "source": []
  },
  {
   "cell_type": "code",
   "execution_count": null,
   "id": "37100850-b9bb-4b3b-b1aa-78d587863aa5",
   "metadata": {},
   "outputs": [],
   "source": []
  },
  {
   "cell_type": "code",
   "execution_count": null,
   "id": "f76448b9-810a-4aef-9651-b152fc2ba1b7",
   "metadata": {},
   "outputs": [],
   "source": []
  },
  {
   "cell_type": "code",
   "execution_count": 19,
   "id": "0b8fbdb7-963c-41c3-8dae-6b10a2d1407b",
   "metadata": {},
   "outputs": [],
   "source": [
    "test_matrix = np.matrix([[1,2,3,44],[4,5,6,77],[7,8,9,0],[11,22,33,44]])"
   ]
  },
  {
   "cell_type": "code",
   "execution_count": 37,
   "id": "daf52de2-f42c-45ef-a7a4-f87d9b17c37f",
   "metadata": {},
   "outputs": [],
   "source": [
    "test_matrix = np.arange(16).reshape(4,4)"
   ]
  },
  {
   "cell_type": "code",
   "execution_count": 38,
   "id": "1e2babb3-3913-47ab-a94e-eb98d1ea2105",
   "metadata": {},
   "outputs": [
    {
     "data": {
      "text/plain": [
       "array([[0, 1],\n",
       "       [4, 5]])"
      ]
     },
     "execution_count": 38,
     "metadata": {},
     "output_type": "execute_result"
    }
   ],
   "source": [
    "test_matrix[:2,:2]"
   ]
  },
  {
   "cell_type": "code",
   "execution_count": 39,
   "id": "7be4f3d0-231e-4f8d-a6e9-daea1784c7b7",
   "metadata": {},
   "outputs": [],
   "source": [
    "test_kernel = np.arange(4).reshape(2,2)"
   ]
  },
  {
   "cell_type": "code",
   "execution_count": 40,
   "id": "ac458677-1445-4d98-905c-d8e41ac06dfa",
   "metadata": {},
   "outputs": [
    {
     "data": {
      "text/plain": [
       "array([[0, 1],\n",
       "       [2, 3]])"
      ]
     },
     "execution_count": 40,
     "metadata": {},
     "output_type": "execute_result"
    }
   ],
   "source": [
    "test_kernel"
   ]
  },
  {
   "cell_type": "code",
   "execution_count": null,
   "id": "7bf1ed93-b713-42fb-a9f0-82de3e547595",
   "metadata": {},
   "outputs": [],
   "source": [
    "test_matrix[:2,:2]"
   ]
  }
 ],
 "metadata": {
  "kernelspec": {
   "display_name": "Python 3 (ipykernel)",
   "language": "python",
   "name": "python3"
  },
  "language_info": {
   "codemirror_mode": {
    "name": "ipython",
    "version": 3
   },
   "file_extension": ".py",
   "mimetype": "text/x-python",
   "name": "python",
   "nbconvert_exporter": "python",
   "pygments_lexer": "ipython3",
   "version": "3.10.12"
  }
 },
 "nbformat": 4,
 "nbformat_minor": 5
}
